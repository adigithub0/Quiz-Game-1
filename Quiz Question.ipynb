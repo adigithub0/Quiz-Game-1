{
 "cells": [
  {
   "cell_type": "code",
   "execution_count": null,
   "id": "f632bc3a-bfab-4e4e-bef6-ea6a3d34b22e",
   "metadata": {},
   "outputs": [
    {
     "name": "stdout",
     "output_type": "stream",
     "text": [
      "Welcome to my Computer Quiz!\n"
     ]
    }
   ],
   "source": [
    "print(\"Welcome to my Computer Quiz!\")\n",
    "\n",
    "playing = input(\"Do you want to play? \").lower()\n",
    "if playing != \"yes\":\n",
    "    quit()\n",
    "\n",
    "print(\"Okay, Let's Play...\")\n",
    "\n",
    "score = 0\n",
    "\n",
    "answer = input(\"What does CPU stand for? \").lower()\n",
    "if answer == \"central processing unit\":\n",
    "    print(\"Correct!\")\n",
    "    score += 1\n",
    "else:\n",
    "    print(\"Incorrect!\")\n",
    "\n",
    "answer = input(\"What does GPU stand for? \").lower()\n",
    "if answer == \"Graphics processing unit\":\n",
    "    print(\"Correct!\")\n",
    "    score += 1\n",
    "else:\n",
    "    print(\"Incorrect!\")\n",
    "\n",
    "answer = input(\"What does RAM stand for? \").lower()\n",
    "if answer == \"Random Access Memory\":\n",
    "    print(\"Correct!\")\n",
    "    score += 1\n",
    "else:\n",
    "    print(\"Incorrect!\")\n",
    "\n",
    "answer = input(\"What does PSU stand for? \").lower()\n",
    "if answer == \"Power Supply unit\":\n",
    "    print(\"Correct!\")\n",
    "    score += 1\n",
    "else:\n",
    "    print(\"Incorrect!\")\n",
    "\n",
    "print(\"You got \" + str(score) + \" question(s) correct!\")\n",
    "print (\"You \" + str((score/4)*100) + \"%\")"
   ]
  },
  {
   "cell_type": "code",
   "execution_count": null,
   "id": "89f68cbc-efd8-48a4-8c4b-923fe3201786",
   "metadata": {},
   "outputs": [],
   "source": []
  }
 ],
 "metadata": {
  "kernelspec": {
   "display_name": "Python 3 (ipykernel)",
   "language": "python",
   "name": "python3"
  },
  "language_info": {
   "codemirror_mode": {
    "name": "ipython",
    "version": 3
   },
   "file_extension": ".py",
   "mimetype": "text/x-python",
   "name": "python",
   "nbconvert_exporter": "python",
   "pygments_lexer": "ipython3",
   "version": "3.12.4"
  }
 },
 "nbformat": 4,
 "nbformat_minor": 5
}
